{
 "cells": [
  {
   "cell_type": "code",
   "execution_count": 1,
   "metadata": {},
   "outputs": [
    {
     "name": "stdout",
     "output_type": "stream",
     "text": [
      "palindrome\n"
     ]
    }
   ],
   "source": [
    "#palindrom or not \n",
    "num = int(input(\"Enter a number:\"))   # num =121\n",
    "rem = 0 \n",
    "reverse = 0\n",
    "temp = num\n",
    "while temp != 0:\n",
    "    rem = temp % 10\n",
    "    reverse = reverse * 10 + rem\n",
    "    temp = temp // 10\n",
    "if num == reverse:\n",
    "    print(\"palindrome\")\n",
    "else:\n",
    "    print(\"not palindrome\")"
   ]
  },
  {
   "cell_type": "code",
   "execution_count": 2,
   "metadata": {},
   "outputs": [
    {
     "name": "stdout",
     "output_type": "stream",
     "text": [
      "not palindrome\n"
     ]
    }
   ],
   "source": [
    "#palindrom or not \n",
    "num = int(input(\"Enter a number:\"))  #num = 234\n",
    "rem = 0 \n",
    "reverse = 0\n",
    "temp = num\n",
    "while temp != 0:\n",
    "    rem = temp % 10\n",
    "    reverse = reverse * 10 + rem\n",
    "    temp = temp // 10\n",
    "if num == reverse:\n",
    "    print(\"palindrome\")\n",
    "else:\n",
    "    print(\"not palindrome\")"
   ]
  }
 ],
 "metadata": {
  "kernelspec": {
   "display_name": "Python 3",
   "language": "python",
   "name": "python3"
  },
  "language_info": {
   "codemirror_mode": {
    "name": "ipython",
    "version": 3
   },
   "file_extension": ".py",
   "mimetype": "text/x-python",
   "name": "python",
   "nbconvert_exporter": "python",
   "pygments_lexer": "ipython3",
   "version": "3.12.4"
  }
 },
 "nbformat": 4,
 "nbformat_minor": 2
}
